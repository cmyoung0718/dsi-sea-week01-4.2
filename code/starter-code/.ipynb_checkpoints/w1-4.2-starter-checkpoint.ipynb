{
 "cells": [
  {
   "cell_type": "code",
   "execution_count": 2,
   "metadata": {
    "collapsed": false
   },
   "outputs": [],
   "source": [
    "# import numpy\n",
    "# create array x\n",
    "\n",
    "import numpy as np\n",
    "x = np.array([1, 2, 3, 4, 5])"
   ]
  },
  {
   "cell_type": "code",
   "execution_count": 3,
   "metadata": {
    "collapsed": false
   },
   "outputs": [
    {
     "data": {
      "text/plain": [
       "(5,)"
      ]
     },
     "execution_count": 3,
     "metadata": {},
     "output_type": "execute_result"
    }
   ],
   "source": [
    "# print the shape of x\n",
    "\n",
    "np.shape(x)"
   ]
  },
  {
   "cell_type": "code",
   "execution_count": 22,
   "metadata": {
    "collapsed": false
   },
   "outputs": [
    {
     "data": {
      "text/plain": [
       "array([[1, 2, 3],\n",
       "       [5, 4, 3],\n",
       "       [9, 8, 7],\n",
       "       [5, 8, 7]])"
      ]
     },
     "execution_count": 22,
     "metadata": {},
     "output_type": "execute_result"
    }
   ],
   "source": [
    "# create a two dimensional array\n",
    "\n",
    "y = np.array([[1, 2, 3], [5, 4, 3], [9, 8, 7], [5, 8, 7]])\n",
    "y"
   ]
  },
  {
   "cell_type": "code",
   "execution_count": 23,
   "metadata": {
    "collapsed": false
   },
   "outputs": [
    {
     "data": {
      "text/plain": [
       "(4, 3)"
      ]
     },
     "execution_count": 23,
     "metadata": {},
     "output_type": "execute_result"
    }
   ],
   "source": [
    "# print shape of 2d array\n",
    "\n",
    "np.shape(y)"
   ]
  },
  {
   "cell_type": "code",
   "execution_count": 48,
   "metadata": {
    "collapsed": false
   },
   "outputs": [
    {
     "data": {
      "text/plain": [
       "array([[1, 2, 3, 5, 4, 3],\n",
       "       [9, 8, 7, 5, 8, 7]])"
      ]
     },
     "execution_count": 48,
     "metadata": {},
     "output_type": "execute_result"
    }
   ],
   "source": [
    "# reshape the array to 2 x 6\n",
    "\n",
    "y = np.reshape(y, (2, 6))\n",
    "y"
   ]
  },
  {
   "cell_type": "code",
   "execution_count": 49,
   "metadata": {
    "collapsed": false
   },
   "outputs": [
    {
     "data": {
      "text/plain": [
       "array([[1, 2, 3, 5, 4, 3, 9, 8, 7, 5, 8, 7]])"
      ]
     },
     "execution_count": 49,
     "metadata": {},
     "output_type": "execute_result"
    }
   ],
   "source": [
    "# reshape the array to 1 x 12\n",
    "\n",
    "y = np.reshape(y, (1, 12))\n",
    "y"
   ]
  },
  {
   "cell_type": "code",
   "execution_count": 50,
   "metadata": {
    "collapsed": false
   },
   "outputs": [
    {
     "data": {
      "text/plain": [
       "array([[1],\n",
       "       [2],\n",
       "       [3],\n",
       "       [5],\n",
       "       [4],\n",
       "       [3],\n",
       "       [9],\n",
       "       [8],\n",
       "       [7],\n",
       "       [5],\n",
       "       [8],\n",
       "       [7]])"
      ]
     },
     "execution_count": 50,
     "metadata": {},
     "output_type": "execute_result"
    }
   ],
   "source": [
    "# transpose the array\n",
    "\n",
    "y = np.transpose(y)\n",
    "y"
   ]
  },
  {
   "cell_type": "code",
   "execution_count": 52,
   "metadata": {
    "collapsed": false
   },
   "outputs": [
    {
     "name": "stdout",
     "output_type": "stream",
     "text": [
      "[[1]\n",
      " [2]\n",
      " [3]\n",
      " [5]\n",
      " [4]\n",
      " [3]\n",
      " [9]\n",
      " [8]\n",
      " [7]\n",
      " [5]\n",
      " [8]\n",
      " [7]] \n",
      "\n",
      "[4]\n"
     ]
    }
   ],
   "source": [
    "# indexing method 1:  Find the 5th value\n",
    "\n",
    "print y, '\\n'\n",
    "print y[4]"
   ]
  },
  {
   "cell_type": "code",
   "execution_count": 53,
   "metadata": {
    "collapsed": false
   },
   "outputs": [
    {
     "name": "stdout",
     "output_type": "stream",
     "text": [
      "[8]\n"
     ]
    }
   ],
   "source": [
    "# indexing method 2:  Find the 2nd value to the last value\n",
    "\n",
    "print y[-2]"
   ]
  },
  {
   "cell_type": "code",
   "execution_count": 55,
   "metadata": {
    "collapsed": false
   },
   "outputs": [
    {
     "name": "stdout",
     "output_type": "stream",
     "text": [
      "[[2]\n",
      " [3]\n",
      " [5]]\n"
     ]
    }
   ],
   "source": [
    "# indexing method 3:  Find the elements 2 to 5(starting at 0)\n",
    "\n",
    "print y[1:4]"
   ]
  },
  {
   "cell_type": "code",
   "execution_count": 73,
   "metadata": {
    "collapsed": false
   },
   "outputs": [
    {
     "name": "stdout",
     "output_type": "stream",
     "text": [
      "[1 2 3 3]\n"
     ]
    }
   ],
   "source": [
    "# indexing method 4:  Find elements 1, 2, 3 and 6 (try to index using an array)\n",
    "\n",
    "indrray = np.array([0, 1, 2, 5])\n",
    "print y[indrray, 0]"
   ]
  },
  {
   "cell_type": "code",
   "execution_count": 75,
   "metadata": {
    "collapsed": false
   },
   "outputs": [
    {
     "data": {
      "text/plain": [
       "array([5, 9, 8, 7, 5, 8, 7])"
      ]
     },
     "execution_count": 75,
     "metadata": {},
     "output_type": "execute_result"
    }
   ],
   "source": [
    "# indexing method 5:  Find values in x > 4.\n",
    "\n",
    "y[y > 4]"
   ]
  },
  {
   "cell_type": "code",
   "execution_count": 84,
   "metadata": {
    "collapsed": false
   },
   "outputs": [
    {
     "name": "stdout",
     "output_type": "stream",
     "text": [
      "[[[1 2]\n",
      "  [3 5]\n",
      "  [4 3]]\n",
      "\n",
      " [[9 8]\n",
      "  [7 5]\n",
      "  [8 7]]]\n"
     ]
    }
   ],
   "source": [
    "# 3D array\n",
    "\n",
    "thr_d_y = np.reshape(y, (2, 3, 2))\n",
    "print thr_d_y"
   ]
  },
  {
   "cell_type": "code",
   "execution_count": 112,
   "metadata": {
    "collapsed": false
   },
   "outputs": [
    {
     "name": "stdout",
     "output_type": "stream",
     "text": [
      "3\n"
     ]
    }
   ],
   "source": [
    "# Find the 5th value\n",
    "\n",
    "print thr_d_y[0, 1, 0]"
   ]
  },
  {
   "cell_type": "code",
   "execution_count": 90,
   "metadata": {
    "collapsed": false
   },
   "outputs": [
    {
     "name": "stdout",
     "output_type": "stream",
     "text": [
      "8\n"
     ]
    }
   ],
   "source": [
    "# Find the 2nd value to the last value\n",
    "\n",
    "print thr_d_y[-1, -1, -2]"
   ]
  },
  {
   "cell_type": "code",
   "execution_count": 160,
   "metadata": {
    "collapsed": false
   },
   "outputs": [
    {
     "name": "stdout",
     "output_type": "stream",
     "text": [
      "[2, array([3, 5]), 4]\n"
     ]
    }
   ],
   "source": [
    "# Find the elements 2 to 5(starting at 0)\n",
    "\n",
    "frst = thr_d_y[0]\n",
    "\n",
    "eles = list([thr_d_y[0][0][1]]) + list([thr_d_y[0][1]]) + list([thr_d_y[0][2][0]])\n",
    "print eles"
   ]
  },
  {
   "cell_type": "code",
   "execution_count": 165,
   "metadata": {
    "collapsed": false
   },
   "outputs": [
    {
     "name": "stdout",
     "output_type": "stream",
     "text": [
      "[array([1, 2]), 3, 3]\n"
     ]
    }
   ],
   "source": [
    "# Find elements 1, 2, 3 and 6 (try to index using an array)\n",
    "ndex = np.array([])\n",
    "\n",
    "print list([thr_d_y[0][0]]) + list([thr_d_y[0][1][0]]) + list([thr_d_y[0][-1][-1]])"
   ]
  },
  {
   "cell_type": "code",
   "execution_count": 91,
   "metadata": {
    "collapsed": false
   },
   "outputs": [
    {
     "data": {
      "text/plain": [
       "array([5, 9, 8, 7, 5, 8, 7])"
      ]
     },
     "execution_count": 91,
     "metadata": {},
     "output_type": "execute_result"
    }
   ],
   "source": [
    "# Find values in x > 4\n",
    "\n",
    "y[y > 4]"
   ]
  },
  {
   "cell_type": "code",
   "execution_count": 158,
   "metadata": {
    "collapsed": false
   },
   "outputs": [
    {
     "name": "stdout",
     "output_type": "stream",
     "text": [
      "100\n",
      "[[[[ 0  1]\n",
      "   [ 2  3]\n",
      "   [ 4  5]\n",
      "   [ 6  7]\n",
      "   [ 8  9]]\n",
      "\n",
      "  [[10 11]\n",
      "   [12 13]\n",
      "   [14 15]\n",
      "   [16 17]\n",
      "   [18 19]]]\n",
      "\n",
      "\n",
      " [[[20 21]\n",
      "   [22 23]\n",
      "   [24 25]\n",
      "   [26 27]\n",
      "   [28 29]]\n",
      "\n",
      "  [[30 31]\n",
      "   [32 33]\n",
      "   [34 35]\n",
      "   [36 37]\n",
      "   [38 39]]]\n",
      "\n",
      "\n",
      " [[[40 41]\n",
      "   [42 43]\n",
      "   [44 45]\n",
      "   [46 47]\n",
      "   [48 49]]\n",
      "\n",
      "  [[50 51]\n",
      "   [52 53]\n",
      "   [54 55]\n",
      "   [56 57]\n",
      "   [58 59]]]\n",
      "\n",
      "\n",
      " [[[60 61]\n",
      "   [62 63]\n",
      "   [64 65]\n",
      "   [66 67]\n",
      "   [68 69]]\n",
      "\n",
      "  [[70 71]\n",
      "   [72 73]\n",
      "   [74 75]\n",
      "   [76 77]\n",
      "   [78 79]]]\n",
      "\n",
      "\n",
      " [[[80 81]\n",
      "   [82 83]\n",
      "   [84 85]\n",
      "   [86 87]\n",
      "   [88 89]]\n",
      "\n",
      "  [[90 91]\n",
      "   [92 93]\n",
      "   [94 95]\n",
      "   [96 97]\n",
      "   [98 99]]]]\n",
      "[94 95]\n",
      "[94, 95, 97]\n"
     ]
    },
    {
     "data": {
      "text/plain": [
       "[94, 95]"
      ]
     },
     "execution_count": 158,
     "metadata": {},
     "output_type": "execute_result"
    }
   ],
   "source": [
    "a = np.array(range(0,100))\n",
    "print len(a)\n",
    "b = np.reshape(a, (5,2,5,2))\n",
    "print b\n",
    "\n",
    "print b[4][1][2:4][0]\n",
    "result = list(b[4][1][2:4][0]) + list([b[4][1][2:4][1][1]])\n",
    "print result"
   ]
  },
  {
   "cell_type": "code",
   "execution_count": null,
   "metadata": {
    "collapsed": false
   },
   "outputs": [],
   "source": []
  },
  {
   "cell_type": "code",
   "execution_count": null,
   "metadata": {
    "collapsed": true
   },
   "outputs": [],
   "source": []
  }
 ],
 "metadata": {
  "kernelspec": {
   "display_name": "Python [Root]",
   "language": "python",
   "name": "Python [Root]"
  },
  "language_info": {
   "codemirror_mode": {
    "name": "ipython",
    "version": 2
   },
   "file_extension": ".py",
   "mimetype": "text/x-python",
   "name": "python",
   "nbconvert_exporter": "python",
   "pygments_lexer": "ipython2",
   "version": "2.7.12"
  }
 },
 "nbformat": 4,
 "nbformat_minor": 0
}
